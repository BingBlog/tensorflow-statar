{
 "cells": [
  {
   "cell_type": "markdown",
   "metadata": {},
   "source": [
    "## 学习笔记\n",
    "\n",
    "\n",
    "### 学习资料\n",
    "\n",
    "#### Computer Science\n",
    "\n",
    "[MIT线性代数](https://ocw.mit.edu/courses/find-by-topic/#cat=mathematics&subcat=linearalgebra)\n",
    "\n",
    "[MIT概率论](https://ocw.mit.edu/courses/find-by-topic/#cat=mathematics&subcat=probabilityandstatistics)\n",
    "\n",
    "https://ocw.mit.edu/courses/find-by-topic/#cat=engineering&subcat=computerscience\n",
    "\n",
    "\n",
    "#### tensorflow statar\n",
    "\n",
    "[Introduction to Machine Learning by Google Developer ](https://developers.google.com/machine-learning/crash-course/)\n",
    "\n",
    "[Get Started with TensorFlow](https://www.tensorflow.org/tutorials/)\n",
    "\n",
    "#### Convolutional Neural Networks for Visual Recognition\n",
    "\n",
    "[TensorFlow and deep learning, without a PhD](https://codelabs.developers.google.com/codelabs/cloud-tensorflow-mnist/#0)\n",
    "\n",
    "[UFLDL Tutorial](http://ufldl.stanford.edu/tutorial/)\n",
    "\n",
    "[CS231n: Convolutional Neural Networks for Visual Recognition](http://cs231n.stanford.edu/)\n",
    "\n",
    "[Convolutional Neural Networks for Visual Recognition (Spring 2017)](https://www.youtube.com/playlist?list=PL3FW7Lu3i5JvHM8ljYj-zLfQRF3EO8sYv)"
   ]
  }
 ],
 "metadata": {
  "kernelspec": {
   "display_name": "Python 2",
   "language": "python",
   "name": "python2"
  },
  "language_info": {
   "codemirror_mode": {
    "name": "ipython",
    "version": 2
   },
   "file_extension": ".py",
   "mimetype": "text/x-python",
   "name": "python",
   "nbconvert_exporter": "python",
   "pygments_lexer": "ipython2",
   "version": "2.7.12"
  }
 },
 "nbformat": 4,
 "nbformat_minor": 2
}
